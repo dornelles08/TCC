{
 "cells": [
  {
   "cell_type": "markdown",
   "id": "a704fc1c",
   "metadata": {},
   "source": [
    "## Importando Bibliotecas"
   ]
  },
  {
   "cell_type": "code",
   "execution_count": null,
   "id": "818a4696",
   "metadata": {},
   "outputs": [],
   "source": [
    "import torch\n",
    "from torch import nn, optim\n",
    "from torch.utils.data import DataLoader, Dataset\n",
    "\n",
    "import numpy as np\n",
    "import pandas as pd\n",
    "import time\n",
    "\n",
    "import matplotlib.pyplot as plt\n",
    "%matplotlib inline"
   ]
  },
  {
   "cell_type": "markdown",
   "id": "e5f874af",
   "metadata": {},
   "source": [
    "## Definindo Hiperparâmetros"
   ]
  },
  {
   "cell_type": "code",
   "execution_count": null,
   "id": "bb9350f6",
   "metadata": {},
   "outputs": [],
   "source": [
    "args = {\n",
    "    'batch_size': 100,\n",
    "    'num_workers': 16,\n",
    "    'epoch_num': 300,\n",
    "    'lr': 0.006,\n",
    "    'weight_decay': 3e-05,\n",
    "}\n",
    "\n",
    "if torch.cuda.is_available():\n",
    "    args['device'] = torch.device('cuda')\n",
    "else:\n",
    "    args['device'] = torch.device('cpu')\n",
    "\n",
    "args"
   ]
  },
  {
   "cell_type": "markdown",
   "id": "60b596cf",
   "metadata": {},
   "source": [
    "## Lendo arquivo com os dados"
   ]
  },
  {
   "cell_type": "code",
   "execution_count": null,
   "id": "c0c59f84",
   "metadata": {},
   "outputs": [],
   "source": [
    "# df = pd.read_csv('dados/sp_completo.csv')\n",
    "# df = pd.read_csv('dados/carros_sem_outliers.csv')\n",
    "# df = pd.read_csv('dados/ka_sp.csv')\n",
    "# df = pd.read_csv('dados/hb20_sp.csv')\n",
    "# df = pd.read_csv('dados/sp_ka.csv')\n",
    "\n",
    "df = pd.read_csv('teste.csv')\n",
    "\n",
    "df.head()"
   ]
  },
  {
   "cell_type": "code",
   "execution_count": null,
   "id": "83922e82",
   "metadata": {},
   "outputs": [],
   "source": [
    "df.describe().round(2)"
   ]
  },
  {
   "cell_type": "code",
   "execution_count": null,
   "id": "aa5209c8",
   "metadata": {},
   "outputs": [],
   "source": [
    "print(f'Quantidade de registros e de colunas: {df.shape}')"
   ]
  },
  {
   "cell_type": "markdown",
   "id": "a7bad411",
   "metadata": {},
   "source": [
    "## Separando em conjunto de teste e de treino"
   ]
  },
  {
   "cell_type": "code",
   "execution_count": null,
   "id": "4eb69897",
   "metadata": {},
   "outputs": [],
   "source": [
    "indices = torch.randperm(len(df)).tolist()\n",
    "\n",
    "train_size = int(0.8*len(df))\n",
    "\n",
    "df_train = df.iloc[indices[:train_size]]\n",
    "df_test = df.iloc[indices[train_size:]]\n",
    "\n",
    "df_train.to_csv('car_train.csv', index=False)\n",
    "df_test.to_csv('car_test.csv', index=False)\n",
    "\n",
    "print(df_train.shape, df_test.shape)"
   ]
  },
  {
   "cell_type": "markdown",
   "id": "a62d82eb",
   "metadata": {},
   "source": [
    "## Classe Carro"
   ]
  },
  {
   "cell_type": "code",
   "execution_count": null,
   "id": "0e934cdc",
   "metadata": {},
   "outputs": [],
   "source": [
    "class Car(Dataset):\n",
    "    def __init__(self, csv_path, columns):\n",
    "        self.dados = pd.read_csv(csv_path).to_numpy()        \n",
    "        self.columns = columns\n",
    "\n",
    "    def __getitem__(self, idx):        \n",
    "        sample = self.dados[idx][:self.columns]\n",
    "        label = self.dados[idx][-1:]\n",
    "\n",
    "        sample = torch.from_numpy(sample.astype(np.float32))\n",
    "        label = torch.from_numpy(label.astype(np.float32))\n",
    "\n",
    "        return sample, label\n",
    "\n",
    "    def __len__(self):\n",
    "        return len(self.dados)\n"
   ]
  },
  {
   "cell_type": "markdown",
   "id": "33b962b3",
   "metadata": {},
   "source": [
    "## Carregando dados de treino e de teste"
   ]
  },
  {
   "cell_type": "code",
   "execution_count": null,
   "id": "7464556a",
   "metadata": {},
   "outputs": [],
   "source": [
    "train_set = Car('car_train.csv', df.shape[1]-1)\n",
    "test_set = Car('car_test.csv', df.shape[1]-1)\n",
    "\n",
    "train_loader = DataLoader(train_set,\n",
    "                          args['batch_size'],\n",
    "                          num_workers=args['num_workers'],\n",
    "                          shuffle=True)\n",
    "\n",
    "test_loader = DataLoader(test_set,\n",
    "                         args['batch_size'],\n",
    "                         num_workers=args['num_workers'],\n",
    "                         shuffle=False)"
   ]
  },
  {
   "cell_type": "markdown",
   "id": "cb14d3fa",
   "metadata": {},
   "source": [
    "## Criando MLP"
   ]
  },
  {
   "cell_type": "code",
   "execution_count": null,
   "id": "2c24ace3",
   "metadata": {},
   "outputs": [],
   "source": [
    "class MLP(nn.Module):\n",
    "    def __init__(self, input_size, hidden_size, out_size):\n",
    "        super(MLP, self).__init__()\n",
    "\n",
    "        self.features = nn.Sequential(\n",
    "            nn.Linear(input_size, hidden_size),\n",
    "            nn.ReLU(),\n",
    "            nn.Linear(hidden_size, hidden_size),\n",
    "            nn.ReLU(),\n",
    "            nn.Linear(hidden_size, hidden_size),\n",
    "            nn.ReLU(),\n",
    "        )\n",
    "\n",
    "        self.classifier = nn.Sequential(\n",
    "            nn.Linear(hidden_size, out_size),\n",
    "            nn.ReLU(),\n",
    "        )\n",
    "\n",
    "    def forward(self, X):\n",
    "\n",
    "        hidden = self.features(X)\n",
    "        output = self.classifier(hidden)\n",
    "\n",
    "        return output"
   ]
  },
  {
   "cell_type": "code",
   "execution_count": null,
   "id": "f55087a7",
   "metadata": {},
   "outputs": [],
   "source": [
    "input_size = train_set[0][0].shape[0]\n",
    "hidden_size = int((train_set[0][0].shape[0] + 1) / 2)\n",
    "out_size = 1\n",
    "\n",
    "net = MLP(input_size, hidden_size, out_size).to(args['device'])\n",
    "\n",
    "net"
   ]
  },
  {
   "cell_type": "markdown",
   "id": "626a9e73",
   "metadata": {},
   "source": [
    "## Definindo loss e otimizador"
   ]
  },
  {
   "cell_type": "code",
   "execution_count": null,
   "id": "d0d71772",
   "metadata": {},
   "outputs": [],
   "source": [
    "criterion = nn.L1Loss().to(args['device'])\n",
    "diferenca = nn.L1Loss().to(args['device'])\n",
    "\n",
    "#optimizer = optim.Adam(net.parameters(), \n",
    "#                       lr=args['lr'], \n",
    "#                       weight_decay=args['weight_decay'])\n",
    "\n",
    "optimizer = optim.Adadelta(net.parameters())\n",
    "\n",
    "dif_train, dif_test = [], []"
   ]
  },
  {
   "cell_type": "markdown",
   "id": "2d6d5265",
   "metadata": {},
   "source": [
    "## Treino e Validação"
   ]
  },
  {
   "cell_type": "code",
   "execution_count": null,
   "id": "178dbac6",
   "metadata": {},
   "outputs": [],
   "source": [
    "def train(train_loader, net, epoch):\n",
    "    # Training mode\n",
    "    net.train()\n",
    "    start = time.time()\n",
    "    epoch_loss  = []    \n",
    "    epoch_dif = []\n",
    "    \n",
    "    for batch in train_loader:\n",
    "        dado, rotulo = batch\n",
    "    \n",
    "        # Cast do dado na GPU\n",
    "        dado = dado.to(args['device'])\n",
    "        rotulo = rotulo.to(args['device'])\n",
    "\n",
    "        optimizer.zero_grad()\n",
    "        \n",
    "        # Forward\n",
    "        ypred = net(dado)\n",
    "        loss = criterion(ypred, rotulo)\n",
    "        \n",
    "        dif = diferenca(ypred, rotulo)\n",
    "        dif_train.append(dif.cpu().data)\n",
    "        \n",
    "        epoch_dif.append(dif.cpu().data)\n",
    "        epoch_loss.append(loss.cpu().data)\n",
    "\n",
    "        # Backpropagation\n",
    "        loss.backward()\n",
    "        optimizer.step()\n",
    "   \n",
    "    epoch_loss = np.asarray(epoch_loss)\n",
    "    epoch_dif = np.asarray(epoch_dif)\n",
    "  \n",
    "    end = time.time()\n",
    "    # print('#################### Train ####################')\n",
    "    # print('Epoch %d, Loss: %.4f +/- %.4f, Time: %.2f' % (epoch, epoch_loss.mean(), epoch_dif.mean(), end-start))\n",
    "\n",
    "    return epoch_loss.mean()"
   ]
  },
  {
   "cell_type": "code",
   "execution_count": null,
   "id": "c3ec99e3",
   "metadata": {},
   "outputs": [],
   "source": [
    "def validate(test_loader, net, epoch):\n",
    "    # Evaluation mode\n",
    "    net.eval()\n",
    "    start = time.time()\n",
    "    epoch_loss  = []\n",
    "    epoch_dif = []\n",
    "\n",
    "    with torch.no_grad(): \n",
    "        for batch in test_loader:\n",
    "            dado, rotulo = batch\n",
    "\n",
    "            # Cast do dado na GPU\n",
    "            dado = dado.to(args['device'])\n",
    "            rotulo = rotulo.to(args['device'])\n",
    "            \n",
    "            optimizer.zero_grad()\n",
    "            \n",
    "            # Forward\n",
    "            ypred = net(dado)\n",
    "            loss = criterion(ypred, rotulo)\n",
    "            \n",
    "            dif = diferenca(ypred, rotulo)\n",
    "            dif_test.append(dif.cpu().data)\n",
    "            \n",
    "            epoch_dif.append(dif.cpu().data)\n",
    "            epoch_loss.append(loss.cpu().data)\n",
    "\n",
    "    epoch_loss = np.asarray(epoch_loss)\n",
    "    epoch_dif = np.asarray(epoch_dif)\n",
    "\n",
    "    end = time.time()\n",
    "    # print('********** Validate **********')\n",
    "    # print('Epoch %d, Loss: %.4f +/- %.4f, Time: %.2f\\n' % (epoch, epoch_loss.mean(), epoch_dif.mean(), end-start))\n",
    "\n",
    "    return epoch_loss.mean()"
   ]
  },
  {
   "cell_type": "markdown",
   "id": "8ff70ad0",
   "metadata": {},
   "source": [
    "## Treinamento"
   ]
  },
  {
   "cell_type": "code",
   "execution_count": null,
   "id": "ecce808c",
   "metadata": {
    "scrolled": true
   },
   "outputs": [],
   "source": [
    "train_losses, test_losses = [], []\n",
    "start = time.time()\n",
    "\n",
    "for epoch in range(args['epoch_num']):\n",
    "    # Train\n",
    "    train_losses.append(train(train_loader, net, epoch))\n",
    "\n",
    "    # Validate\n",
    "    test_losses.append(validate(test_loader, net, epoch))\n",
    "\n",
    "end = time.time()"
   ]
  },
  {
   "cell_type": "code",
   "execution_count": null,
   "id": "c62e8171",
   "metadata": {},
   "outputs": [],
   "source": [
    "print(f'Duração do Treinamento: {end-start} s')"
   ]
  },
  {
   "cell_type": "markdown",
   "id": "a51f63a3",
   "metadata": {},
   "source": [
    "## Grafico de Convergência"
   ]
  },
  {
   "cell_type": "code",
   "execution_count": null,
   "id": "bca914e0",
   "metadata": {},
   "outputs": [],
   "source": [
    "plt.figure(figsize=(30, 10))\n",
    "plt.plot(train_losses, label='Train')\n",
    "plt.plot(test_losses, label='Test', linewidth=3, alpha=0.5)\n",
    "plt.xlabel('Epochs', fontsize=16)\n",
    "plt.ylabel('Loss', fontsize=16)\n",
    "plt.title('Convergence', fontsize=16)\n",
    "plt.legend()\n",
    "plt.show()"
   ]
  },
  {
   "cell_type": "code",
   "execution_count": null,
   "id": "89b2af69",
   "metadata": {},
   "outputs": [],
   "source": [
    "plt.figure(figsize=(30, 10))\n",
    "plt.plot(dif_train, label='Train')\n",
    "plt.xlabel('Testes', fontsize=16)\n",
    "plt.ylabel('Diferença', fontsize=16)\n",
    "plt.title('Convergence Treino', fontsize=16)\n",
    "plt.legend()\n",
    "plt.show()"
   ]
  },
  {
   "cell_type": "code",
   "execution_count": null,
   "id": "6c18432e",
   "metadata": {},
   "outputs": [],
   "source": [
    "plt.figure(figsize=(30, 10))\n",
    "plt.plot(dif_test, label='Test', linewidth=3, alpha=0.5)\n",
    "plt.xlabel('Testes', fontsize=16)\n",
    "plt.ylabel('Diferença', fontsize=16)\n",
    "plt.title('Convergence Teste', fontsize=16)\n",
    "plt.legend()\n",
    "plt.show()"
   ]
  },
  {
   "cell_type": "markdown",
   "id": "c2535fa2",
   "metadata": {},
   "source": [
    "## Melhores Loss"
   ]
  },
  {
   "cell_type": "code",
   "execution_count": null,
   "id": "3bb3f28b",
   "metadata": {},
   "outputs": [],
   "source": [
    "train_losses = np.asarray(train_losses)\n",
    "test_losses = np.asarray(test_losses)\n",
    "dif_train = np.asarray(dif_train)\n",
    "dif_test = np.asarray(dif_test)\n",
    "\n",
    "print(f'Menor Valor de Loss por Época de Treino: {min(train_losses)}')\n",
    "print(f'Maior Valor de Loss por Época de Treino: {max(train_losses)}')\n",
    "print(f'Valor Médio de Loss por Época de Treino: {train_losses.mean()}')\n",
    "\n",
    "print()\n",
    "\n",
    "print(f'Menor Valor de Loss por Época de Teste: {min(test_losses)}')\n",
    "print(f'Maior Valor de Loss por Época de Teste: {max(test_losses)}')\n",
    "print(f'Valor Médio de Loss por Época de Teste: {test_losses.mean()}')\n",
    "\n",
    "print()\n",
    "\n",
    "print(f'Menor Valor de Loss por Registro de Treino: {min(dif_train)}')\n",
    "print(f'Maior Valor de Loss por Registro de Treino: {max(dif_train)}')\n",
    "print(f'Valor Médio de Loss por Registro de Treino: {dif_train.mean()}')\n",
    "\n",
    "print()\n",
    "\n",
    "print(f'Menor Valor de Loss por Registro de Teste: {min(dif_test)}')\n",
    "print(f'Maior Valor de Loss por Registro de Teste: {max(dif_test)}')\n",
    "print(f'Valor Médio de Loss por Registro de Teste: {dif_test.mean()}')"
   ]
  },
  {
   "cell_type": "code",
   "execution_count": null,
   "id": "c5b6dcbe",
   "metadata": {
    "scrolled": true
   },
   "outputs": [],
   "source": [
    "print(\"Optimizer's state_dict:\")\n",
    "for var_name in optimizer.state_dict():\n",
    "    print(var_name, \"\\t\", optimizer.state_dict()[var_name])"
   ]
  },
  {
   "cell_type": "code",
   "execution_count": null,
   "id": "fda98154",
   "metadata": {},
   "outputs": [],
   "source": [
    "# torch.save(net, 'modelo_classificao_t')"
   ]
  },
  {
   "cell_type": "code",
   "execution_count": null,
   "id": "f88bc51c",
   "metadata": {},
   "outputs": [],
   "source": [
    "# testeModelo = torch.load('modelo_classificao-3')\n",
    "# testeModelo.eval()"
   ]
  },
  {
   "cell_type": "code",
   "execution_count": null,
   "id": "0849ff38",
   "metadata": {
    "scrolled": true
   },
   "outputs": [],
   "source": [
    "#lista = [1425,45,4,2,2,0,2019, 61000, 1.6,0]\n",
    "#tensor = torch.FloatTensor(lista)\n",
    "#valor = testeModelo.forward(tensor).item()\n",
    "#valor"
   ]
  },
  {
   "cell_type": "code",
   "execution_count": null,
   "id": "cca0ff63",
   "metadata": {},
   "outputs": [],
   "source": [
    "# vw = pd.read_csv('ka.csv')\n",
    "#vw.drop(['combustivel', 'blindado', 'cor', 'potenciamotor'], axis=1, inplace=True)\n",
    "# vw.head()"
   ]
  },
  {
   "cell_type": "code",
   "execution_count": null,
   "id": "012d6d22",
   "metadata": {},
   "outputs": [],
   "source": [
    "# dif = []\n",
    "# real = []\n",
    "# previsto = []\n",
    "# for i in range(vw.shape[0]):\n",
    "#     tensor = torch.FloatTensor(np.asarray(vw.iloc[i, :-1]))    \n",
    "#     valor = testeModelo.forward(tensor).item()\n",
    "#     dif.append(float(round(valor-np.asarray(vw.iloc[i,-1]), 2)))\n",
    "#     print(f\"{np.asarray(vw.iloc[i,-1])} -> {round(valor, 2)} => {round(valor-np.asarray(vw.iloc[i,-1]), 2)}\")    \n",
    "#     real.append(vw.iloc[i,-1])\n",
    "#     previsto.append(valor)"
   ]
  },
  {
   "cell_type": "code",
   "execution_count": null,
   "id": "59287a2c",
   "metadata": {},
   "outputs": [],
   "source": [
    "# dif = np.asarray(dif)"
   ]
  },
  {
   "cell_type": "code",
   "execution_count": null,
   "id": "549a87b8",
   "metadata": {},
   "outputs": [],
   "source": [
    "# dif"
   ]
  },
  {
   "cell_type": "code",
   "execution_count": null,
   "id": "3bee151b",
   "metadata": {},
   "outputs": [],
   "source": [
    "# print(min(dif), max(dif), dif.mean())"
   ]
  },
  {
   "cell_type": "code",
   "execution_count": null,
   "id": "65223c83",
   "metadata": {},
   "outputs": [],
   "source": [
    "# print(min(dif[dif > 0]), max(dif[dif > 0]), dif[dif > 0].mean())"
   ]
  },
  {
   "cell_type": "code",
   "execution_count": null,
   "id": "bff9b77d",
   "metadata": {},
   "outputs": [],
   "source": [
    "# dif[dif > 0].std()"
   ]
  },
  {
   "cell_type": "code",
   "execution_count": null,
   "id": "0e978cdb",
   "metadata": {
    "scrolled": false
   },
   "outputs": [],
   "source": [
    "# plt.figure(figsize=(20, 9))\n",
    "# plt.plot(real, label='Real', linewidth=3, alpha=0.5)\n",
    "# plt.plot(previsto, label='Previsto')\n",
    "# plt.xlabel('Testes', fontsize=16)\n",
    "# plt.ylabel('Diferença', fontsize=16)\n",
    "# plt.title('Convergence Teste', fontsize=16)\n",
    "# plt.legend()\n",
    "# plt.show()"
   ]
  },
  {
   "cell_type": "code",
   "execution_count": null,
   "id": "e7e0ebfd",
   "metadata": {
    "scrolled": false
   },
   "outputs": [],
   "source": [
    "# plt.figure(figsize=(20, 9))\n",
    "# plt.plot(real[100:200], label='Real', linewidth=3, alpha=0.5)\n",
    "# plt.plot(previsto[100:200], label='Previsto')\n",
    "# plt.xlabel('Testes', fontsize=16)\n",
    "# plt.ylabel('Diferença', fontsize=16)\n",
    "# plt.title('Convergence Teste', fontsize=16)\n",
    "# plt.legend()\n",
    "# plt.show()"
   ]
  }
 ],
 "metadata": {
  "interpreter": {
   "hash": "6a6d5ff1640e4e968c6c5b1e6269ddc1ed62a0e0a0aad489495b03ac8b16f78a"
  },
  "kernelspec": {
   "display_name": "Python 3 (ipykernel)",
   "language": "python",
   "name": "python3"
  },
  "language_info": {
   "codemirror_mode": {
    "name": "ipython",
    "version": 3
   },
   "file_extension": ".py",
   "mimetype": "text/x-python",
   "name": "python",
   "nbconvert_exporter": "python",
   "pygments_lexer": "ipython3",
   "version": "3.10.4"
  }
 },
 "nbformat": 4,
 "nbformat_minor": 5
}
