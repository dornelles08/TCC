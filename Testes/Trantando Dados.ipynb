{
 "cells": [
  {
   "cell_type": "markdown",
   "id": "e8559163",
   "metadata": {},
   "source": [
    "# Trantando Dados"
   ]
  },
  {
   "cell_type": "code",
   "execution_count": null,
   "id": "6e89f86c",
   "metadata": {},
   "outputs": [],
   "source": [
    "import numpy as np\n",
    "import pandas as pd\n",
    "\n",
    "import matplotlib.pyplot as plt\n",
    "%matplotlib inline"
   ]
  },
  {
   "cell_type": "code",
   "execution_count": null,
   "id": "af088197",
   "metadata": {},
   "outputs": [],
   "source": [
    "dataset = pd.read_csv('dados/carros.csv')\n",
    "dataset.head()"
   ]
  },
  {
   "cell_type": "code",
   "execution_count": null,
   "id": "bb7e4448",
   "metadata": {},
   "outputs": [],
   "source": [
    "modelos = dataset.groupby('modelo')['valor']\n",
    "q1 = modelos.quantile(.25)\n",
    "q3 = modelos.quantile(.75)\n",
    "IIQ = q3 - q1\n",
    "limite_inferior = q1 - 1.5 * IIQ\n",
    "limite_superior = q3 + 1.5 * IIQ"
   ]
  },
  {
   "cell_type": "code",
   "execution_count": null,
   "id": "c95cd00a",
   "metadata": {},
   "outputs": [],
   "source": [
    "dados_new = pd.DataFrame()\n",
    "\n",
    "for tipo in modelos.groups.keys():\n",
    "    eh_tipo = dataset['modelo'] == tipo\n",
    "    eh_dentro_limite = (dataset['valor'] >= limite_inferior[tipo]) & (dataset['valor'] <= limite_superior[tipo])\n",
    "    selecao = eh_tipo & eh_dentro_limite\n",
    "    dados_selecao = dataset[selecao]\n",
    "    dados_new = pd.concat([dados_new, dados_selecao])\n",
    "    \n",
    "dados_new.boxplot(['valor'], by=['modelo'])\n",
    "dataset.boxplot(['valor'], by=['modelo'])"
   ]
  },
  {
   "cell_type": "code",
   "execution_count": null,
   "id": "2ba78b44",
   "metadata": {},
   "outputs": [],
   "source": [
    "quilometragem = dados_new.groupby('modelo')['quilometragem']\n",
    "q1 = quilometragem.quantile(.25)\n",
    "q3 = quilometragem.quantile(.75)\n",
    "IIQ = q3 - q1\n",
    "limite_inferior = q1 - 1.5 * IIQ\n",
    "limite_superior = q3 + 1.5 * IIQ\n",
    "\n",
    "quilometragem_new = pd.DataFrame()\n",
    "\n",
    "for tipo in quilometragem.groups.keys():\n",
    "    eh_tipo = dados_new['modelo'] == tipo\n",
    "    eh_dentro_limite = (dados_new['quilometragem'] >= limite_inferior[tipo]) & (dados_new['quilometragem'] <= limite_superior[tipo])\n",
    "    selecao = eh_tipo & eh_dentro_limite\n",
    "    dados_selecao = dados_new[selecao]\n",
    "    quilometragem_new = pd.concat([quilometragem_new, dados_selecao])\n",
    "    \n",
    "quilometragem_new.boxplot(['valor'], by=['modelo'])\n",
    "dados_new.boxplot(['valor'], by=['modelo'])"
   ]
  },
  {
   "cell_type": "code",
   "execution_count": null,
   "id": "0f190e03",
   "metadata": {},
   "outputs": [],
   "source": [
    "quilometragem_new.boxplot(['quilometragem'], by=['modelo'])\n",
    "dados_new.boxplot(['quilometragem'], by=['modelo'])"
   ]
  },
  {
   "cell_type": "code",
   "execution_count": null,
   "id": "6e396281",
   "metadata": {},
   "outputs": [],
   "source": [
    "quilometragem_new.to_csv('carros_sem_outliers.csv', index=False)"
   ]
  },
  {
   "cell_type": "code",
   "execution_count": 5,
   "id": "cacce0d0",
   "metadata": {},
   "outputs": [
    {
     "data": {
      "text/html": [
       "<div>\n",
       "<style scoped>\n",
       "    .dataframe tbody tr th:only-of-type {\n",
       "        vertical-align: middle;\n",
       "    }\n",
       "\n",
       "    .dataframe tbody tr th {\n",
       "        vertical-align: top;\n",
       "    }\n",
       "\n",
       "    .dataframe thead th {\n",
       "        text-align: right;\n",
       "    }\n",
       "</style>\n",
       "<table border=\"1\" class=\"dataframe\">\n",
       "  <thead>\n",
       "    <tr style=\"text-align: right;\">\n",
       "      <th></th>\n",
       "      <th>modelo</th>\n",
       "      <th>marca</th>\n",
       "      <th>combustivel</th>\n",
       "      <th>cambio</th>\n",
       "      <th>direcao</th>\n",
       "      <th>cor</th>\n",
       "      <th>ano</th>\n",
       "      <th>quilometragem</th>\n",
       "      <th>potenciamotor</th>\n",
       "      <th>blindado</th>\n",
       "      <th>valor</th>\n",
       "    </tr>\n",
       "  </thead>\n",
       "  <tbody>\n",
       "    <tr>\n",
       "      <th>0</th>\n",
       "      <td>1</td>\n",
       "      <td>12</td>\n",
       "      <td>5</td>\n",
       "      <td>0</td>\n",
       "      <td>2</td>\n",
       "      <td>9</td>\n",
       "      <td>2018</td>\n",
       "      <td>49906</td>\n",
       "      <td>2.0</td>\n",
       "      <td>0</td>\n",
       "      <td>150900.0</td>\n",
       "    </tr>\n",
       "    <tr>\n",
       "      <th>1</th>\n",
       "      <td>3</td>\n",
       "      <td>30</td>\n",
       "      <td>6</td>\n",
       "      <td>0</td>\n",
       "      <td>2</td>\n",
       "      <td>3</td>\n",
       "      <td>2017</td>\n",
       "      <td>25000</td>\n",
       "      <td>2.0</td>\n",
       "      <td>0</td>\n",
       "      <td>283000.0</td>\n",
       "    </tr>\n",
       "    <tr>\n",
       "      <th>2</th>\n",
       "      <td>5</td>\n",
       "      <td>65</td>\n",
       "      <td>5</td>\n",
       "      <td>0</td>\n",
       "      <td>2</td>\n",
       "      <td>0</td>\n",
       "      <td>2017</td>\n",
       "      <td>137000</td>\n",
       "      <td>3.0</td>\n",
       "      <td>0</td>\n",
       "      <td>139000.0</td>\n",
       "    </tr>\n",
       "    <tr>\n",
       "      <th>3</th>\n",
       "      <td>5</td>\n",
       "      <td>65</td>\n",
       "      <td>5</td>\n",
       "      <td>0</td>\n",
       "      <td>2</td>\n",
       "      <td>0</td>\n",
       "      <td>2016</td>\n",
       "      <td>108900</td>\n",
       "      <td>3.0</td>\n",
       "      <td>0</td>\n",
       "      <td>128900.0</td>\n",
       "    </tr>\n",
       "    <tr>\n",
       "      <th>4</th>\n",
       "      <td>5</td>\n",
       "      <td>65</td>\n",
       "      <td>5</td>\n",
       "      <td>0</td>\n",
       "      <td>2</td>\n",
       "      <td>7</td>\n",
       "      <td>2015</td>\n",
       "      <td>89000</td>\n",
       "      <td>3.0</td>\n",
       "      <td>0</td>\n",
       "      <td>124499.0</td>\n",
       "    </tr>\n",
       "  </tbody>\n",
       "</table>\n",
       "</div>"
      ],
      "text/plain": [
       "   modelo  marca  combustivel  cambio  direcao  cor   ano  quilometragem  \\\n",
       "0       1     12            5       0        2    9  2018          49906   \n",
       "1       3     30            6       0        2    3  2017          25000   \n",
       "2       5     65            5       0        2    0  2017         137000   \n",
       "3       5     65            5       0        2    0  2016         108900   \n",
       "4       5     65            5       0        2    7  2015          89000   \n",
       "\n",
       "   potenciamotor  blindado     valor  \n",
       "0            2.0         0  150900.0  \n",
       "1            2.0         0  283000.0  \n",
       "2            3.0         0  139000.0  \n",
       "3            3.0         0  128900.0  \n",
       "4            3.0         0  124499.0  "
      ]
     },
     "execution_count": 5,
     "metadata": {},
     "output_type": "execute_result"
    }
   ],
   "source": [
    "import pandas as pd\n",
    "import numpy as np\n",
    "dados = pd.read_csv('dados/carros_sp_sem_outliers.csv')\n",
    "dados.head()"
   ]
  },
  {
   "cell_type": "code",
   "execution_count": 6,
   "id": "e0768ec0",
   "metadata": {},
   "outputs": [],
   "source": [
    "group_model = dados.groupby('modelo')\n",
    "df_models = []\n",
    "for modelo, data in group_model:    \n",
    "    df_models.append(pd.DataFrame(data))"
   ]
  },
  {
   "cell_type": "code",
   "execution_count": 7,
   "id": "f1b97bc0",
   "metadata": {},
   "outputs": [],
   "source": [
    "temp = []\n",
    "for i in range(len(df_models)):\n",
    "    df = df_models[i]\n",
    "    temp.append(df.shape[0])\n",
    "\n",
    "temp = np.asarray(temp)"
   ]
  },
  {
   "cell_type": "code",
   "execution_count": 9,
   "id": "33dc7006",
   "metadata": {},
   "outputs": [
    {
     "name": "stdout",
     "output_type": "stream",
     "text": [
      "155  -  153\n",
      "369  -  114\n",
      "383  -  146\n",
      "393  -  137\n",
      "414  -  164\n",
      "417  -  115\n",
      "424  -  179\n",
      "481  -  175\n",
      "494  -  111\n",
      "497  -  165\n",
      "530  -  148\n",
      "606  -  132\n",
      "751  -  108\n",
      "783  -  142\n",
      "799  -  166\n",
      "858  -  119\n",
      "960  -  195\n",
      "989  -  187\n",
      "1030  -  121\n",
      "1084  -  176\n",
      "1238  -  102\n",
      "1264  -  135\n",
      "1270  -  197\n",
      "1646  -  130\n",
      "1715  -  115\n",
      "1850  -  138\n",
      "1895  -  111\n"
     ]
    }
   ],
   "source": [
    "for i in range(len(temp)):    \n",
    "    if temp[i]>100 and temp[i] < 200:\n",
    "        print(i, \" - \", temp[i])"
   ]
  },
  {
   "cell_type": "code",
   "execution_count": 11,
   "id": "08e9d8cf",
   "metadata": {},
   "outputs": [
    {
     "data": {
      "text/plain": [
       "5947    1238\n",
       "Name: modelo, dtype: int64"
      ]
     },
     "execution_count": 11,
     "metadata": {},
     "output_type": "execute_result"
    }
   ],
   "source": [
    "df_models[481].modelo.drop_duplicates()"
   ]
  },
  {
   "cell_type": "code",
   "execution_count": 12,
   "id": "cd84b981",
   "metadata": {},
   "outputs": [],
   "source": [
    "df_models[481].to_csv('ford_sp.csv', index=False)\n",
    "# df_models[457].to_csv('onix_se.csv', index=False)"
   ]
  },
  {
   "cell_type": "code",
   "execution_count": null,
   "id": "a519a76f",
   "metadata": {},
   "outputs": [],
   "source": []
  }
 ],
 "metadata": {
  "kernelspec": {
   "display_name": "Python 3 (ipykernel)",
   "language": "python",
   "name": "python3"
  },
  "language_info": {
   "codemirror_mode": {
    "name": "ipython",
    "version": 3
   },
   "file_extension": ".py",
   "mimetype": "text/x-python",
   "name": "python",
   "nbconvert_exporter": "python",
   "pygments_lexer": "ipython3",
   "version": "3.9.7"
  }
 },
 "nbformat": 4,
 "nbformat_minor": 5
}
