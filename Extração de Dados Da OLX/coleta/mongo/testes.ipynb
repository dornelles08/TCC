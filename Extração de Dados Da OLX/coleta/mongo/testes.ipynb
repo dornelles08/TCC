{
 "cells": [
  {
   "cell_type": "code",
   "execution_count": 14,
   "metadata": {},
   "outputs": [
    {
     "name": "stdout",
     "output_type": "stream",
     "text": [
      "50\n"
     ]
    }
   ],
   "source": [
    "import pandas as pd\n",
    "\n",
    "links = ['https://se.olx.com.br/sergipe/autos-e-pecas/carros-vans-e-utilitarios/corsa-classic-2007-1024796860?utm_source=listing_2020', 'https://se.olx.com.br/sergipe/autos-e-pecas/carros-vans-e-utilitarios/ranger-xlt-1022452217?utm_source=listing_2020', 'https://se.olx.com.br/sergipe/autos-e-pecas/carros-vans-e-utilitarios/new-fiesta-1-5-se-2015-veiculo-de-garagem-1019484718?utm_source=listing_2020', 'https://se.olx.com.br/sergipe/autos-e-pecas/carros-vans-e-utilitarios/santana-1999-completo-raridade-1024794433?utm_source=listing_2020', 'https://se.olx.com.br/sergipe/autos-e-pecas/carros-vans-e-utilitarios/cruze-2019-18mil-km-958847901?utm_source=listing_2020', 'https://se.olx.com.br/sergipe/autos-e-pecas/carros-vans-e-utilitarios/crossfox-1-6-2015-manual-6-marchas-1003450174?utm_source=listing_2020', 'https://se.olx.com.br/sergipe/autos-e-pecas/carros-vans-e-utilitarios/vendo-carro-kia-qkq-1024792769?utm_source=listing_2020', 'https://se.olx.com.br/sergipe/autos-e-pecas/carros-vans-e-utilitarios/hb20-1-0-confortstyle-2013-uma-joia-rara-1024792773?utm_source=listing_2020', 'https://se.olx.com.br/sergipe/autos-e-pecas/carros-vans-e-utilitarios/vende-se-um-strada-novinho-ano-2021-1024792139?utm_source=listing_2020', 'https://se.olx.com.br/sergipe/autos-e-pecas/carros-vans-e-utilitarios/mitsubishi-l200-outdoor-gls-2-5-turbo-disel-interculler-1024792081?utm_source=listing_2020', 'https://se.olx.com.br/sergipe/autos-e-pecas/carros-vans-e-utilitarios/agile-1-4-ltz-2014-completo-excelente-uber-saia-do-aluguel-938287197?utm_source=listing_2020', 'https://se.olx.com.br/sergipe/autos-e-pecas/carros-vans-e-utilitarios/gran-siena-2014-1024790884?utm_source=listing_2020', 'https://se.olx.com.br/sergipe/autos-e-pecas/carros-vans-e-utilitarios/classic-advantage-2015-1024789748?utm_source=listing_2020', 'https://se.olx.com.br/sergipe/autos-e-pecas/carros-vans-e-utilitarios/audi-a3-2015-1024789406?utm_source=listing_2020', 'https://se.olx.com.br/sergipe/autos-e-pecas/carros-vans-e-utilitarios/strada-volcano-1-3-cd-2022-aut-0km-vendida-976528332?utm_source=listing_2020', 'https://se.olx.com.br/sergipe/autos-e-pecas/carros-vans-e-utilitarios/nivus-2020-2021-1-0-200-tsi-total-flex-highline-automatico-996055568?utm_source=listing_2020', 'https://se.olx.com.br/sergipe/autos-e-pecas/carros-vans-e-utilitarios/gol-1-0-trendline-2015-o-mais-vendido-do-brasil-990317658?utm_source=listing_2020', 'https://se.olx.com.br/sergipe/autos-e-pecas/carros-vans-e-utilitarios/fiat-strada-1-4-working-ano-2016-999760599?utm_source=listing_2020', 'https://se.olx.com.br/sergipe/autos-e-pecas/carros-vans-e-utilitarios/vendo-golf-sapao-18-500-1024788008?utm_source=listing_2020', 'https://se.olx.com.br/sergipe/autos-e-pecas/carros-vans-e-utilitarios/estrada-completa-1-4-1024787923?utm_source=listing_2020', 'https://se.olx.com.br/sergipe/autos-e-pecas/carros-vans-e-utilitarios/corolla-xei-2009-1-8-aut-1024787894?utm_source=listing_2020', 'https://se.olx.com.br/sergipe/autos-e-pecas/carros-vans-e-utilitarios/gol-1-0-3cilindros-som-de-fabrica-licenc2022-unico-dobo-1018892595?utm_source=listing_2020', 'https://se.olx.com.br/sergipe/autos-e-pecas/carros-vans-e-utilitarios/ranger-17-17xlscd2-2-1024787435?utm_source=listing_2020', 'https://se.olx.com.br/sergipe/autos-e-pecas/carros-vans-e-utilitarios/nivus-2020-2021-1-0-200-tsi-total-flex-highline-automatico-1021713264?utm_source=listing_2020', 'https://se.olx.com.br/sergipe/autos-e-pecas/carros-vans-e-utilitarios/renegade-automatico-1-8-completo-unico-dono-financiamos-com-aprovacao-na-hora-1024786021?utm_source=listing_2020',\n",
    "         'https://se.olx.com.br/sergipe/autos-e-pecas/carros-vans-e-utilitarios/hb20s-evolution-pack-1-0-turbo-aut-2021-1024785959?utm_source=listing_2020', 'https://se.olx.com.br/sergipe/autos-e-pecas/carros-vans-e-utilitarios/compass-2018-2018-4x4-diesel-muito-novo-1010382462?utm_source=listing_2020', 'https://se.olx.com.br/sergipe/autos-e-pecas/carros-vans-e-utilitarios/forro-de-porta-amarok-usada-1024785421?utm_source=listing_2020', 'https://se.olx.com.br/sergipe/autos-e-pecas/carros-vans-e-utilitarios/duster-2-0-dynamique-at-2016-venha-conferir-1006715560?utm_source=listing_2020', 'https://se.olx.com.br/sergipe/autos-e-pecas/carros-vans-e-utilitarios/chrysler-300c-v8-5-7-997846504?utm_source=listing_2020', 'https://se.olx.com.br/sergipe/autos-e-pecas/carros-vans-e-utilitarios/idea-adventure-2012-1006894511?utm_source=listing_2020', 'https://se.olx.com.br/sergipe/autos-e-pecas/carros-vans-e-utilitarios/onix-2016-1024784248?utm_source=listing_2020', 'https://se.olx.com.br/sergipe/autos-e-pecas/carros-vans-e-utilitarios/ford-ka-2015-2015-1-5-sigma-flex-se-manual-1012102390?utm_source=listing_2020', 'https://se.olx.com.br/sergipe/autos-e-pecas/carros-vans-e-utilitarios/peugeot-2008-allure-pack-21-22-1009565731?utm_source=listing_2020', 'https://se.olx.com.br/sergipe/autos-e-pecas/carros-vans-e-utilitarios/new-voyage-1-0-19-completo-manual-financiamos-com-0-de-entrada-aprovacao-na-hora-1024783738?utm_source=listing_2020', 'https://se.olx.com.br/sergipe/autos-e-pecas/carros-vans-e-utilitarios/vendo-logan-2012-1024783285?utm_source=listing_2020', 'https://se.olx.com.br/sergipe/autos-e-pecas/carros-vans-e-utilitarios/fiat-touro-ranch-1024783109?utm_source=listing_2020', 'https://se.olx.com.br/sergipe/autos-e-pecas/carros-vans-e-utilitarios/saveiro-ano-13-14-telefone-79-9-zap-1024781824?utm_source=listing_2020', 'https://se.olx.com.br/sergipe/autos-e-pecas/carros-vans-e-utilitarios/hb20s-automatico-1024781638?utm_source=listing_2020', 'https://se.olx.com.br/sergipe/autos-e-pecas/carros-vans-e-utilitarios/venda-de-veiculo-1024781600?utm_source=listing_2020', 'https://se.olx.com.br/sergipe/autos-e-pecas/carros-vans-e-utilitarios/fiat-cronos-1-3-drive-2019-unico-dono-1015320285?utm_source=listing_2020', 'https://se.olx.com.br/sergipe/autos-e-pecas/carros-vans-e-utilitarios/ford-focus-titanium-2-0-aut-2017-troco-e-financio-aprovacao-imediata-1019918438?utm_source=listing_2020', 'https://se.olx.com.br/sergipe/autos-e-pecas/carros-vans-e-utilitarios/vendo-up-14-15-37000-1024780213?utm_source=listing_2020', 'https://se.olx.com.br/sergipe/autos-e-pecas/carros-vans-e-utilitarios/jeep-compass-2017-2017-flex-4x2-2-0-automatico-1022662333?utm_source=listing_2020', 'https://se.olx.com.br/sergipe/autos-e-pecas/carros-vans-e-utilitarios/pajero-sport-1024779093?utm_source=listing_2020', 'https://se.olx.com.br/sergipe/autos-e-pecas/carros-vans-e-utilitarios/volkswagen-tiguan-2-0-tsi-16v-200cv-tiptronic-5p-2016-gasolina-963464512?utm_source=listing_2020', 'https://se.olx.com.br/sergipe/autos-e-pecas/carros-vans-e-utilitarios/fiesta-2004-1024777012?utm_source=listing_2020', 'https://se.olx.com.br/sergipe/autos-e-pecas/carros-vans-e-utilitarios/fiat-uno-2019-ja-financiado-1023681031?utm_source=listing_2020', 'https://se.olx.com.br/sergipe/autos-e-pecas/carros-vans-e-utilitarios/corsa-1024775010?utm_source=listing_2020', 'https://se.olx.com.br/sergipe/autos-e-pecas/carros-vans-e-utilitarios/honda-hr-v-exl-2019-960448547?utm_source=listing_2020']\n",
    "\n",
    "print(len(links))\n"
   ]
  },
  {
   "cell_type": "code",
   "execution_count": 15,
   "metadata": {},
   "outputs": [],
   "source": [
    "links = pd.DataFrame(links, columns = [\"Links\"])"
   ]
  },
  {
   "cell_type": "code",
   "execution_count": 16,
   "metadata": {},
   "outputs": [
    {
     "data": {
      "text/html": [
       "<div>\n",
       "<style scoped>\n",
       "    .dataframe tbody tr th:only-of-type {\n",
       "        vertical-align: middle;\n",
       "    }\n",
       "\n",
       "    .dataframe tbody tr th {\n",
       "        vertical-align: top;\n",
       "    }\n",
       "\n",
       "    .dataframe thead th {\n",
       "        text-align: right;\n",
       "    }\n",
       "</style>\n",
       "<table border=\"1\" class=\"dataframe\">\n",
       "  <thead>\n",
       "    <tr style=\"text-align: right;\">\n",
       "      <th></th>\n",
       "      <th>Links</th>\n",
       "    </tr>\n",
       "  </thead>\n",
       "  <tbody>\n",
       "    <tr>\n",
       "      <th>0</th>\n",
       "      <td>https://se.olx.com.br/sergipe/autos-e-pecas/ca...</td>\n",
       "    </tr>\n",
       "    <tr>\n",
       "      <th>1</th>\n",
       "      <td>https://se.olx.com.br/sergipe/autos-e-pecas/ca...</td>\n",
       "    </tr>\n",
       "    <tr>\n",
       "      <th>2</th>\n",
       "      <td>https://se.olx.com.br/sergipe/autos-e-pecas/ca...</td>\n",
       "    </tr>\n",
       "    <tr>\n",
       "      <th>3</th>\n",
       "      <td>https://se.olx.com.br/sergipe/autos-e-pecas/ca...</td>\n",
       "    </tr>\n",
       "    <tr>\n",
       "      <th>4</th>\n",
       "      <td>https://se.olx.com.br/sergipe/autos-e-pecas/ca...</td>\n",
       "    </tr>\n",
       "  </tbody>\n",
       "</table>\n",
       "</div>"
      ],
      "text/plain": [
       "                                               Links\n",
       "0  https://se.olx.com.br/sergipe/autos-e-pecas/ca...\n",
       "1  https://se.olx.com.br/sergipe/autos-e-pecas/ca...\n",
       "2  https://se.olx.com.br/sergipe/autos-e-pecas/ca...\n",
       "3  https://se.olx.com.br/sergipe/autos-e-pecas/ca...\n",
       "4  https://se.olx.com.br/sergipe/autos-e-pecas/ca..."
      ]
     },
     "execution_count": 16,
     "metadata": {},
     "output_type": "execute_result"
    }
   ],
   "source": [
    "links.head()"
   ]
  },
  {
   "cell_type": "code",
   "execution_count": 17,
   "metadata": {},
   "outputs": [],
   "source": [
    "link = 'https://se.olx.com.br/sergipe/autos-e-pecas/carros-vans-e-utilitarios/corsa-classic-2007-1024796860?utm_source=listing_2020'"
   ]
  },
  {
   "cell_type": "code",
   "execution_count": 52,
   "metadata": {},
   "outputs": [],
   "source": [
    "if not links.query(f'Links==\"{link}\"').shape[0]:\n",
    "    print(\"Não Existe\")\n"
   ]
  },
  {
   "cell_type": "code",
   "execution_count": 29,
   "metadata": {},
   "outputs": [],
   "source": [
    "linksAnuncios = ['https://se.olx.com.br/sergipe/autos-e-pecas/carros-vans-e-utilitarios/corsa-classic-2007-1024796860?utm_source=listing_2020', 'https://se.olx.com.br/sergipe/autos-e-pecas/carros-vans-e-utilitarios/ranger-xlt-1022452217?utm_source=listing_2020', 'https://se.olx.com.br/sergipe/autos-e-pecas/carros-vans-e-utilitarios/corsa-classic-2007-1024796860?utm_source=listing_2020b', 'https://se.olx.com.br/sergipe/autos-e-pecas/carros-vans-e-utilitarios/ranger-xlt-1022452217?utm_source=listing_2020a']"
   ]
  },
  {
   "cell_type": "code",
   "execution_count": 30,
   "metadata": {},
   "outputs": [],
   "source": [
    "linksAnuncios = pd.DataFrame(linksAnuncios, columns = [\"Links\"])"
   ]
  },
  {
   "cell_type": "code",
   "execution_count": 48,
   "metadata": {},
   "outputs": [],
   "source": [
    "t = pd.concat([links, linksAnuncios])"
   ]
  },
  {
   "cell_type": "code",
   "execution_count": 50,
   "metadata": {},
   "outputs": [
    {
     "data": {
      "text/plain": [
       "Links                                                                                                                                                                                    \n",
       "https://se.olx.com.br/sergipe/autos-e-pecas/carros-vans-e-utilitarios/ranger-xlt-1022452217?utm_source=listing_2020                                                                          2\n",
       "https://se.olx.com.br/sergipe/autos-e-pecas/carros-vans-e-utilitarios/corsa-classic-2007-1024796860?utm_source=listing_2020                                                                  2\n",
       "https://se.olx.com.br/sergipe/autos-e-pecas/carros-vans-e-utilitarios/agile-1-4-ltz-2014-completo-excelente-uber-saia-do-aluguel-938287197?utm_source=listing_2020                           1\n",
       "https://se.olx.com.br/sergipe/autos-e-pecas/carros-vans-e-utilitarios/jeep-compass-2017-2017-flex-4x2-2-0-automatico-1022662333?utm_source=listing_2020                                      1\n",
       "https://se.olx.com.br/sergipe/autos-e-pecas/carros-vans-e-utilitarios/mitsubishi-l200-outdoor-gls-2-5-turbo-disel-interculler-1024792081?utm_source=listing_2020                             1\n",
       "https://se.olx.com.br/sergipe/autos-e-pecas/carros-vans-e-utilitarios/new-fiesta-1-5-se-2015-veiculo-de-garagem-1019484718?utm_source=listing_2020                                           1\n",
       "https://se.olx.com.br/sergipe/autos-e-pecas/carros-vans-e-utilitarios/new-voyage-1-0-19-completo-manual-financiamos-com-0-de-entrada-aprovacao-na-hora-1024783738?utm_source=listing_2020    1\n",
       "https://se.olx.com.br/sergipe/autos-e-pecas/carros-vans-e-utilitarios/nivus-2020-2021-1-0-200-tsi-total-flex-highline-automatico-1021713264?utm_source=listing_2020                          1\n",
       "https://se.olx.com.br/sergipe/autos-e-pecas/carros-vans-e-utilitarios/nivus-2020-2021-1-0-200-tsi-total-flex-highline-automatico-996055568?utm_source=listing_2020                           1\n",
       "https://se.olx.com.br/sergipe/autos-e-pecas/carros-vans-e-utilitarios/onix-2016-1024784248?utm_source=listing_2020                                                                           1\n",
       "https://se.olx.com.br/sergipe/autos-e-pecas/carros-vans-e-utilitarios/pajero-sport-1024779093?utm_source=listing_2020                                                                        1\n",
       "https://se.olx.com.br/sergipe/autos-e-pecas/carros-vans-e-utilitarios/peugeot-2008-allure-pack-21-22-1009565731?utm_source=listing_2020                                                      1\n",
       "https://se.olx.com.br/sergipe/autos-e-pecas/carros-vans-e-utilitarios/ranger-17-17xlscd2-2-1024787435?utm_source=listing_2020                                                                1\n",
       "https://se.olx.com.br/sergipe/autos-e-pecas/carros-vans-e-utilitarios/ranger-xlt-1022452217?utm_source=listing_2020a                                                                         1\n",
       "https://se.olx.com.br/sergipe/autos-e-pecas/carros-vans-e-utilitarios/honda-hr-v-exl-2019-960448547?utm_source=listing_2020                                                                  1\n",
       "https://se.olx.com.br/sergipe/autos-e-pecas/carros-vans-e-utilitarios/renegade-automatico-1-8-completo-unico-dono-financiamos-com-aprovacao-na-hora-1024786021?utm_source=listing_2020       1\n",
       "https://se.olx.com.br/sergipe/autos-e-pecas/carros-vans-e-utilitarios/santana-1999-completo-raridade-1024794433?utm_source=listing_2020                                                      1\n",
       "https://se.olx.com.br/sergipe/autos-e-pecas/carros-vans-e-utilitarios/saveiro-ano-13-14-telefone-79-9-zap-1024781824?utm_source=listing_2020                                                 1\n",
       "https://se.olx.com.br/sergipe/autos-e-pecas/carros-vans-e-utilitarios/strada-volcano-1-3-cd-2022-aut-0km-vendida-976528332?utm_source=listing_2020                                           1\n",
       "https://se.olx.com.br/sergipe/autos-e-pecas/carros-vans-e-utilitarios/venda-de-veiculo-1024781600?utm_source=listing_2020                                                                    1\n",
       "https://se.olx.com.br/sergipe/autos-e-pecas/carros-vans-e-utilitarios/vende-se-um-strada-novinho-ano-2021-1024792139?utm_source=listing_2020                                                 1\n",
       "https://se.olx.com.br/sergipe/autos-e-pecas/carros-vans-e-utilitarios/vendo-carro-kia-qkq-1024792769?utm_source=listing_2020                                                                 1\n",
       "https://se.olx.com.br/sergipe/autos-e-pecas/carros-vans-e-utilitarios/vendo-golf-sapao-18-500-1024788008?utm_source=listing_2020                                                             1\n",
       "https://se.olx.com.br/sergipe/autos-e-pecas/carros-vans-e-utilitarios/vendo-logan-2012-1024783285?utm_source=listing_2020                                                                    1\n",
       "https://se.olx.com.br/sergipe/autos-e-pecas/carros-vans-e-utilitarios/vendo-up-14-15-37000-1024780213?utm_source=listing_2020                                                                1\n",
       "https://se.olx.com.br/sergipe/autos-e-pecas/carros-vans-e-utilitarios/idea-adventure-2012-1006894511?utm_source=listing_2020                                                                 1\n",
       "https://se.olx.com.br/sergipe/autos-e-pecas/carros-vans-e-utilitarios/hb20s-evolution-pack-1-0-turbo-aut-2021-1024785959?utm_source=listing_2020                                             1\n",
       "https://se.olx.com.br/sergipe/autos-e-pecas/carros-vans-e-utilitarios/audi-a3-2015-1024789406?utm_source=listing_2020                                                                        1\n",
       "https://se.olx.com.br/sergipe/autos-e-pecas/carros-vans-e-utilitarios/fiat-cronos-1-3-drive-2019-unico-dono-1015320285?utm_source=listing_2020                                               1\n",
       "https://se.olx.com.br/sergipe/autos-e-pecas/carros-vans-e-utilitarios/chrysler-300c-v8-5-7-997846504?utm_source=listing_2020                                                                 1\n",
       "https://se.olx.com.br/sergipe/autos-e-pecas/carros-vans-e-utilitarios/classic-advantage-2015-1024789748?utm_source=listing_2020                                                              1\n",
       "https://se.olx.com.br/sergipe/autos-e-pecas/carros-vans-e-utilitarios/compass-2018-2018-4x4-diesel-muito-novo-1010382462?utm_source=listing_2020                                             1\n",
       "https://se.olx.com.br/sergipe/autos-e-pecas/carros-vans-e-utilitarios/corolla-xei-2009-1-8-aut-1024787894?utm_source=listing_2020                                                            1\n",
       "https://se.olx.com.br/sergipe/autos-e-pecas/carros-vans-e-utilitarios/corsa-1024775010?utm_source=listing_2020                                                                               1\n",
       "https://se.olx.com.br/sergipe/autos-e-pecas/carros-vans-e-utilitarios/corsa-classic-2007-1024796860?utm_source=listing_2020b                                                                 1\n",
       "https://se.olx.com.br/sergipe/autos-e-pecas/carros-vans-e-utilitarios/crossfox-1-6-2015-manual-6-marchas-1003450174?utm_source=listing_2020                                                  1\n",
       "https://se.olx.com.br/sergipe/autos-e-pecas/carros-vans-e-utilitarios/cruze-2019-18mil-km-958847901?utm_source=listing_2020                                                                  1\n",
       "https://se.olx.com.br/sergipe/autos-e-pecas/carros-vans-e-utilitarios/duster-2-0-dynamique-at-2016-venha-conferir-1006715560?utm_source=listing_2020                                         1\n",
       "https://se.olx.com.br/sergipe/autos-e-pecas/carros-vans-e-utilitarios/estrada-completa-1-4-1024787923?utm_source=listing_2020                                                                1\n",
       "https://se.olx.com.br/sergipe/autos-e-pecas/carros-vans-e-utilitarios/fiat-strada-1-4-working-ano-2016-999760599?utm_source=listing_2020                                                     1\n",
       "https://se.olx.com.br/sergipe/autos-e-pecas/carros-vans-e-utilitarios/hb20s-automatico-1024781638?utm_source=listing_2020                                                                    1\n",
       "https://se.olx.com.br/sergipe/autos-e-pecas/carros-vans-e-utilitarios/fiat-touro-ranch-1024783109?utm_source=listing_2020                                                                    1\n",
       "https://se.olx.com.br/sergipe/autos-e-pecas/carros-vans-e-utilitarios/fiat-uno-2019-ja-financiado-1023681031?utm_source=listing_2020                                                         1\n",
       "https://se.olx.com.br/sergipe/autos-e-pecas/carros-vans-e-utilitarios/fiesta-2004-1024777012?utm_source=listing_2020                                                                         1\n",
       "https://se.olx.com.br/sergipe/autos-e-pecas/carros-vans-e-utilitarios/ford-focus-titanium-2-0-aut-2017-troco-e-financio-aprovacao-imediata-1019918438?utm_source=listing_2020                1\n",
       "https://se.olx.com.br/sergipe/autos-e-pecas/carros-vans-e-utilitarios/ford-ka-2015-2015-1-5-sigma-flex-se-manual-1012102390?utm_source=listing_2020                                          1\n",
       "https://se.olx.com.br/sergipe/autos-e-pecas/carros-vans-e-utilitarios/forro-de-porta-amarok-usada-1024785421?utm_source=listing_2020                                                         1\n",
       "https://se.olx.com.br/sergipe/autos-e-pecas/carros-vans-e-utilitarios/gol-1-0-3cilindros-som-de-fabrica-licenc2022-unico-dobo-1018892595?utm_source=listing_2020                             1\n",
       "https://se.olx.com.br/sergipe/autos-e-pecas/carros-vans-e-utilitarios/gol-1-0-trendline-2015-o-mais-vendido-do-brasil-990317658?utm_source=listing_2020                                      1\n",
       "https://se.olx.com.br/sergipe/autos-e-pecas/carros-vans-e-utilitarios/gran-siena-2014-1024790884?utm_source=listing_2020                                                                     1\n",
       "https://se.olx.com.br/sergipe/autos-e-pecas/carros-vans-e-utilitarios/hb20-1-0-confortstyle-2013-uma-joia-rara-1024792773?utm_source=listing_2020                                            1\n",
       "https://se.olx.com.br/sergipe/autos-e-pecas/carros-vans-e-utilitarios/volkswagen-tiguan-2-0-tsi-16v-200cv-tiptronic-5p-2016-gasolina-963464512?utm_source=listing_2020                       1\n",
       "dtype: int64"
      ]
     },
     "execution_count": 50,
     "metadata": {},
     "output_type": "execute_result"
    }
   ],
   "source": [
    "t.value_counts()"
   ]
  },
  {
   "cell_type": "code",
   "execution_count": null,
   "metadata": {},
   "outputs": [],
   "source": []
  }
 ],
 "metadata": {
  "interpreter": {
   "hash": "95f53ccb03e8f8f336d9f5bcda07b89892863676bfade6fdd87a2ca6c81f0347"
  },
  "kernelspec": {
   "display_name": "Python 3.9.7 ('venv': venv)",
   "language": "python",
   "name": "python3"
  },
  "language_info": {
   "codemirror_mode": {
    "name": "ipython",
    "version": 3
   },
   "file_extension": ".py",
   "mimetype": "text/x-python",
   "name": "python",
   "nbconvert_exporter": "python",
   "pygments_lexer": "ipython3",
   "version": "3.9.7"
  },
  "orig_nbformat": 4
 },
 "nbformat": 4,
 "nbformat_minor": 2
}
