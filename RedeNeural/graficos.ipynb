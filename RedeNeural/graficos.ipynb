{
 "cells": [
  {
   "cell_type": "code",
   "execution_count": 31,
   "metadata": {},
   "outputs": [],
   "source": []
  },
  {
   "cell_type": "code",
   "execution_count": 32,
   "metadata": {},
   "outputs": [],
   "source": []
  },
  {
   "cell_type": "code",
   "execution_count": 33,
   "metadata": {},
   "outputs": [
    {
     "name": "stdout",
     "output_type": "stream",
     "text": [
      "se_completo\n",
      "0    14882.73\n",
      "dtype: float64\n",
      "0    23377.707326\n",
      "dtype: float64\n",
      "0    44180.74\n",
      "dtype: float64\n",
      "______________________________________________________\n",
      "se_corolla\n",
      "0    6725.73\n",
      "dtype: float64\n",
      "0    14222.952262\n",
      "dtype: float64\n",
      "0    85264.76\n",
      "dtype: float64\n",
      "______________________________________________________\n",
      "se_onix\n",
      "0    4920.41\n",
      "dtype: float64\n",
      "0    10279.684058\n",
      "dtype: float64\n",
      "0    43192.75\n",
      "dtype: float64\n",
      "______________________________________________________\n",
      "sp_completo\n",
      "0    18483.63\n",
      "dtype: float64\n",
      "0    26037.5078\n",
      "dtype: float64\n",
      "0    60876.43\n",
      "dtype: float64\n",
      "______________________________________________________\n",
      "sp_fit\n",
      "0    4794.68\n",
      "dtype: float64\n",
      "0    11058.81781\n",
      "dtype: float64\n",
      "0    61740.16\n",
      "dtype: float64\n",
      "______________________________________________________\n",
      "sp_hb20\n",
      "0    2999.24\n",
      "dtype: float64\n",
      "0    5515.204176\n",
      "dtype: float64\n",
      "0    44086.55\n",
      "dtype: float64\n",
      "______________________________________________________\n",
      "sp_ka\n",
      "0    2452.55\n",
      "dtype: float64\n",
      "0    4272.509537\n",
      "dtype: float64\n",
      "0    36514.79\n",
      "dtype: float64\n",
      "______________________________________________________\n"
     ]
    }
   ],
   "source": [
    "import pandas as pd\n",
    "import seaborn as sns\n",
    "\n",
    "files = [\"se_completo\", \"se_corolla\", \"se_onix\", \"sp_completo\", \"sp_fit\", \"sp_hb20\", \"sp_ka\"]\n",
    "\n",
    "for file in files:\n",
    "    print(file)\n",
    "    colnames = ['Loss']\n",
    "    train_losses = pd.read_csv(\n",
    "        f'./resultados/{file}/train_loss_epoch_{file}.csv', names=colnames, header=None)\n",
    "    test_losses = pd.read_csv(\n",
    "        f'./resultados/{file}/test_loss_epoch_{file}.csv', names=colnames, header=None)\n",
    "    dif_train = pd.read_csv(\n",
    "        f'./resultados/{file}/train_loss_{file}.csv', names=colnames, header=None)\n",
    "    dif_test = pd.read_csv(\n",
    "        f'./resultados/{file}/test_loss_{file}.csv', names=colnames, header=None)\n",
    "\n",
    "    dif_array = []\n",
    "\n",
    "    skip = 100\n",
    "    start = 0\n",
    "    end = skip\n",
    "\n",
    "    for i in range(int(len(dif_test)/100)):\n",
    "        dif_array.append(round(dif_test[start:end].mean().Loss, 2))\n",
    "        start = end\n",
    "        end = start + skip\n",
    "        if(end > len(dif_test)):\n",
    "            end = len(dif_test)\n",
    "\n",
    "    dif_array = pd.DataFrame(dif_array)\n",
    "\n",
    "    print(dif_array.min())\n",
    "    print(dif_array.mean())\n",
    "    print(dif_array.max())\n",
    "    print(\"______________________________________________________\")\n"
   ]
  },
  {
   "cell_type": "code",
   "execution_count": null,
   "metadata": {},
   "outputs": [],
   "source": []
  },
  {
   "cell_type": "code",
   "execution_count": null,
   "metadata": {},
   "outputs": [],
   "source": []
  }
 ],
 "metadata": {
  "kernelspec": {
   "display_name": "Python 3.10.4 ('venv': venv)",
   "language": "python",
   "name": "python3"
  },
  "language_info": {
   "codemirror_mode": {
    "name": "ipython",
    "version": 3
   },
   "file_extension": ".py",
   "mimetype": "text/x-python",
   "name": "python",
   "nbconvert_exporter": "python",
   "pygments_lexer": "ipython3",
   "version": "3.10.4"
  },
  "orig_nbformat": 4,
  "vscode": {
   "interpreter": {
    "hash": "6a6d5ff1640e4e968c6c5b1e6269ddc1ed62a0e0a0aad489495b03ac8b16f78a"
   }
  }
 },
 "nbformat": 4,
 "nbformat_minor": 2
}
