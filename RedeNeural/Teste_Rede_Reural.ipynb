{
 "cells": [
  {
   "cell_type": "code",
   "execution_count": 7,
   "metadata": {},
   "outputs": [],
   "source": [
    "import torch\n",
    "import torch.nn as nn\n",
    "import torch.nn.functional\n",
    "import pandas as pd \n",
    "import numpy as np"
   ]
  },
  {
   "cell_type": "code",
   "execution_count": 8,
   "metadata": {},
   "outputs": [],
   "source": [
    "class MLP(nn.Module):\n",
    "    def __init__(self, input_size, hidden_size, out_size):\n",
    "        super(MLP, self).__init__()\n",
    "\n",
    "        self.features = nn.Sequential(\n",
    "            nn.Linear(input_size, hidden_size),\n",
    "            nn.ReLU(),\n",
    "            nn.Linear(hidden_size, hidden_size),\n",
    "            nn.ReLU(),\n",
    "            nn.Linear(hidden_size, hidden_size),\n",
    "            nn.ReLU(),\n",
    "        )\n",
    "\n",
    "        self.classifier = nn.Sequential(\n",
    "            nn.Linear(hidden_size, out_size),\n",
    "            nn.ReLU(),\n",
    "        )\n",
    "\n",
    "    def forward(self, X):\n",
    "\n",
    "        hidden = self.features(X)\n",
    "        output = self.classifier(hidden)\n",
    "\n",
    "        return output"
   ]
  },
  {
   "cell_type": "code",
   "execution_count": 9,
   "metadata": {},
   "outputs": [],
   "source": [
    "dados = [\"se_completo\", \"se_corolla\", \"se_onix\", \"sp_completo\", \"sp_fit\", \"sp_hb20\", \"sp_ka\"]\n",
    "# dados = [\"sp_hb20\"]"
   ]
  },
  {
   "cell_type": "code",
   "execution_count": 10,
   "metadata": {},
   "outputs": [
    {
     "name": "stdout",
     "output_type": "stream",
     "text": [
      "se_completo -> 11200.996280515466\n",
      "se_completo -> 472213.95703125\n",
      "se_completo -> -67101.609375\n",
      "-------------------------------------------------------------------\n",
      "se_corolla -> 2537.4824501811595\n",
      "se_corolla -> 22690.15625\n",
      "se_corolla -> -26719.03125\n",
      "-------------------------------------------------------------------\n",
      "se_onix -> 7718.177995648301\n",
      "se_onix -> 38779.6796875\n",
      "se_onix -> -42984.0078125\n",
      "-------------------------------------------------------------------\n",
      "sp_completo -> 14863.277744489065\n",
      "sp_completo -> 714743.84375\n",
      "sp_completo -> -149301.109375\n",
      "-------------------------------------------------------------------\n",
      "sp_fit -> 13318.205100446428\n",
      "sp_fit -> 63212.36328125\n",
      "sp_fit -> -39937.21875\n",
      "-------------------------------------------------------------------\n",
      "sp_hb20 -> -48.543192455947135\n",
      "sp_hb20 -> 9968.11328125\n",
      "sp_hb20 -> -14443.54296875\n",
      "-------------------------------------------------------------------\n",
      "sp_ka -> -159.3755164688082\n",
      "sp_ka -> 10308.0078125\n",
      "sp_ka -> -14054.30078125\n",
      "-------------------------------------------------------------------\n"
     ]
    }
   ],
   "source": [
    "for dado in dados:\n",
    "  modelo = torch.load(f\"./resultados/{dado}/modelo_{dado}\")\n",
    "  modelo.eval()\n",
    "  dataset = pd.read_csv(f\"./dados/{dado}.csv\")\n",
    "  valor = dataset['valor']\n",
    "  del dataset['valor']\n",
    "  dif = []\n",
    "  for index, row in dataset.iterrows():\n",
    "    tensor = torch.FloatTensor(row.tolist())\n",
    "    pred = modelo.forward(tensor).item()\n",
    "    dif.append(valor[index]-pred)\n",
    "  print(f\"{dado} -> {np.array(dif).mean()}\")\n",
    "  print(f\"{dado} -> {np.array(dif).max()}\")\n",
    "  print(f\"{dado} -> {np.array(dif).min()}\")\n",
    "\n",
    "  print(\"-------------------------------------------------------------------\")\n",
    "  "
   ]
  },
  {
   "cell_type": "code",
   "execution_count": 11,
   "metadata": {},
   "outputs": [
    {
     "name": "stdout",
     "output_type": "stream",
     "text": [
      "sp_hb20\n",
      "Média Real: 44953.337004405286\n",
      "Média Prevista: 45001.88019686123\n",
      "\n",
      "R² Score\n",
      "20.96211665944181\n",
      "\n",
      "Mean Error\n",
      "-48.543192455947135\n"
     ]
    }
   ],
   "source": [
    "dado = dados[5]\n",
    "modelo = torch.load(f\"./resultados/{dado}/modelo_{dado}\")\n",
    "modelo.eval()\n",
    "dataset = pd.read_csv(f\"./dados/{dado}.csv\")\n",
    "valor = dataset['valor']\n",
    "del dataset['valor']\n",
    "dif = []\n",
    "percent = []\n",
    "\n",
    "ypred = []\n",
    "yreal = []\n",
    "\n",
    "for index, row in dataset.iterrows():\n",
    "  tensor = torch.FloatTensor(row.tolist())\n",
    "  pred = modelo.forward(tensor).item()\n",
    "\n",
    "  ypred.append(pred)\n",
    "  yreal.append(valor[index])\n",
    "\n",
    "  dif.append(valor[index]-pred)\n",
    "  percent.append((pred)*100/valor[index] - 100)\n",
    "\n",
    "media = np.array(yreal).mean()\n",
    "mediaPrevista = np.array(ypred).mean()\n",
    "print(dado)\n",
    "print(f\"Média Real: {media}\")\n",
    "print(f\"Média Prevista: {mediaPrevista}\")\n",
    "print()\n",
    "\n",
    "part1 = 0\n",
    "part2 = 0\n",
    "for i in range(len(ypred)):\n",
    "  part1 += (yreal[i] - ypred[i]) ** 2\n",
    "  part2 += (yreal[i] - media) ** 2\n",
    "\n",
    "r2_score = 1 - (part1/part2)\n",
    "print(\"R² Score\")\n",
    "print(r2_score*100)\n",
    "print()\n",
    "\n",
    "print(\"Mean Error\")\n",
    "print(np.array(dif).mean())"
   ]
  },
  {
   "cell_type": "code",
   "execution_count": null,
   "metadata": {},
   "outputs": [],
   "source": []
  }
 ],
 "metadata": {
  "kernelspec": {
   "display_name": "Python 3.10.4 ('venv': venv)",
   "language": "python",
   "name": "python3"
  },
  "language_info": {
   "codemirror_mode": {
    "name": "ipython",
    "version": 3
   },
   "file_extension": ".py",
   "mimetype": "text/x-python",
   "name": "python",
   "nbconvert_exporter": "python",
   "pygments_lexer": "ipython3",
   "version": "3.10.4"
  },
  "orig_nbformat": 4,
  "vscode": {
   "interpreter": {
    "hash": "6a6d5ff1640e4e968c6c5b1e6269ddc1ed62a0e0a0aad489495b03ac8b16f78a"
   }
  }
 },
 "nbformat": 4,
 "nbformat_minor": 2
}
