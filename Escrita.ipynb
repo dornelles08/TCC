{
 "cells": [
  {
   "cell_type": "markdown",
   "metadata": {},
   "source": [
    "# Extração de Dados da OLX"
   ]
  },
  {
   "cell_type": "markdown",
   "metadata": {},
   "source": [
    "A extração dos dados e as devidas tranformações foram feitas em momentos diferentes e com varias alterações, devido a isso o processo de extração de dados e geração do arquivo final para usar no modelo possui vários passos que poderiam ser em menos passos.\n",
    "\n",
    "A proposta inicial era usar bases de concessionárias e revendedores de carros, mas foi observado certa relutância na disponibilização dos dados. Então a baseescolhida para fazer a coleta dos dados foi a da OLX. A OLX é um site decompra e venda de produtos, em sua maioria produtos usados, tendo como diferencial a negociação que é realizada entre o comprador e o vendedor, diferente de outros grandes sites.  O site da OLX é separado em categorias e subcategorias, a categoria e a subcategoria a qual os carros usados pertencem são *auto e peças* e *carros, vans e utilitário*, respectivamente."
   ]
  },
  {
   "cell_type": "markdown",
   "metadata": {},
   "source": [
    "## Primeira Coleta"
   ]
  },
  {
   "cell_type": "markdown",
   "metadata": {},
   "source": [
    "A ideia inicial para a coleta dos dados era utilizar a linguagem python juntamento com a biblioteca nativa *requests*, porém o site da olx bloqueia requisições que não tem origem no navegador. Com isso busquei uma alternativa que simulasse a ação do usuario abrindo o navegador e coletando as informações. \n",
    "\n",
    "Usando essa estrategia foi utilizado o node.js, uma runtime do javascript para execuções fora do navegado, juntamente com a biblioteca puppeteer que fornece uma API de alto nível para controlar o Chromium sobre o protocolo DevTools."
   ]
  },
  {
   "cell_type": "markdown",
   "metadata": {},
   "source": [
    "## Segunda Coleta"
   ]
  },
  {
   "cell_type": "markdown",
   "metadata": {},
   "source": []
  },
  {
   "cell_type": "markdown",
   "metadata": {},
   "source": [
    "## Colocando no Banco"
   ]
  },
  {
   "cell_type": "markdown",
   "metadata": {},
   "source": []
  },
  {
   "cell_type": "markdown",
   "metadata": {},
   "source": [
    "### Subindo dados dos Carros para o Banco"
   ]
  },
  {
   "cell_type": "markdown",
   "metadata": {},
   "source": []
  },
  {
   "cell_type": "markdown",
   "metadata": {},
   "source": [
    "### Convertendo Atributos Alfanuméricos em numericos"
   ]
  },
  {
   "cell_type": "markdown",
   "metadata": {},
   "source": []
  },
  {
   "cell_type": "markdown",
   "metadata": {},
   "source": [
    "### Subindo dados dos Atributos"
   ]
  },
  {
   "cell_type": "markdown",
   "metadata": {},
   "source": []
  }
 ],
 "metadata": {
  "language_info": {
   "name": "python"
  },
  "orig_nbformat": 4
 },
 "nbformat": 4,
 "nbformat_minor": 2
}
